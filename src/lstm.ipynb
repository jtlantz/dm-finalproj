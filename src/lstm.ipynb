{
  "cells": [
    {
      "cell_type": "code",
      "execution_count": 4,
      "metadata": {
        "colab": {
          "base_uri": "https://localhost:8080/"
        },
        "id": "mIzmNwm7RNsL",
        "outputId": "3f990839-7cb4-4140-b139-9d78e10c0334"
      },
      "outputs": [
        {
          "name": "stdout",
          "output_type": "stream",
          "text": [
            "/bin/bash: /home/justyn/miniconda3/envs/tf/lib/libtinfo.so.6: no version information available (required by /bin/bash)\n",
            "Requirement already satisfied: keras in /home/justyn/miniconda3/envs/tf/lib/python3.9/site-packages (2.10.0)\n",
            "\n",
            "\u001b[1m[\u001b[0m\u001b[34;49mnotice\u001b[0m\u001b[1;39;49m]\u001b[0m\u001b[39;49m A new release of pip is available: \u001b[0m\u001b[31;49m23.0\u001b[0m\u001b[39;49m -> \u001b[0m\u001b[32;49m23.0.1\u001b[0m\n",
            "\u001b[1m[\u001b[0m\u001b[34;49mnotice\u001b[0m\u001b[1;39;49m]\u001b[0m\u001b[39;49m To update, run: \u001b[0m\u001b[32;49mpip install --upgrade pip\u001b[0m\n",
            "Note: you may need to restart the kernel to use updated packages.\n",
            "/bin/bash: /home/justyn/miniconda3/envs/tf/lib/libtinfo.so.6: no version information available (required by /bin/bash)\n",
            "Requirement already satisfied: tensorflow in /home/justyn/miniconda3/envs/tf/lib/python3.9/site-packages (2.10.0)\n",
            "Requirement already satisfied: typing-extensions>=3.6.6 in /home/justyn/miniconda3/envs/tf/lib/python3.9/site-packages (from tensorflow) (4.4.0)\n",
            "Requirement already satisfied: protobuf<3.20,>=3.9.2 in /home/justyn/miniconda3/envs/tf/lib/python3.9/site-packages (from tensorflow) (3.19.6)\n",
            "Requirement already satisfied: astunparse>=1.6.0 in /home/justyn/miniconda3/envs/tf/lib/python3.9/site-packages (from tensorflow) (1.6.3)\n",
            "Requirement already satisfied: google-pasta>=0.1.1 in /home/justyn/miniconda3/envs/tf/lib/python3.9/site-packages (from tensorflow) (0.2.0)\n",
            "Requirement already satisfied: libclang>=13.0.0 in /home/justyn/miniconda3/envs/tf/lib/python3.9/site-packages (from tensorflow) (14.0.6)\n",
            "Requirement already satisfied: packaging in /home/justyn/miniconda3/envs/tf/lib/python3.9/site-packages (from tensorflow) (21.3)\n",
            "Requirement already satisfied: flatbuffers>=2.0 in /home/justyn/miniconda3/envs/tf/lib/python3.9/site-packages (from tensorflow) (22.10.26)\n",
            "Requirement already satisfied: six>=1.12.0 in /home/justyn/miniconda3/envs/tf/lib/python3.9/site-packages (from tensorflow) (1.16.0)\n",
            "Requirement already satisfied: opt-einsum>=2.3.2 in /home/justyn/miniconda3/envs/tf/lib/python3.9/site-packages (from tensorflow) (3.3.0)\n",
            "Requirement already satisfied: numpy>=1.20 in /home/justyn/miniconda3/envs/tf/lib/python3.9/site-packages (from tensorflow) (1.23.4)\n",
            "Requirement already satisfied: tensorboard<2.11,>=2.10 in /home/justyn/miniconda3/envs/tf/lib/python3.9/site-packages (from tensorflow) (2.10.1)\n",
            "Requirement already satisfied: keras-preprocessing>=1.1.1 in /home/justyn/miniconda3/envs/tf/lib/python3.9/site-packages (from tensorflow) (1.1.2)\n",
            "Requirement already satisfied: termcolor>=1.1.0 in /home/justyn/miniconda3/envs/tf/lib/python3.9/site-packages (from tensorflow) (2.0.1)\n",
            "Requirement already satisfied: wrapt>=1.11.0 in /home/justyn/miniconda3/envs/tf/lib/python3.9/site-packages (from tensorflow) (1.14.1)\n",
            "Requirement already satisfied: gast<=0.4.0,>=0.2.1 in /home/justyn/miniconda3/envs/tf/lib/python3.9/site-packages (from tensorflow) (0.4.0)\n",
            "Requirement already satisfied: h5py>=2.9.0 in /home/justyn/miniconda3/envs/tf/lib/python3.9/site-packages (from tensorflow) (3.7.0)\n",
            "Requirement already satisfied: grpcio<2.0,>=1.24.3 in /home/justyn/miniconda3/envs/tf/lib/python3.9/site-packages (from tensorflow) (1.50.0)\n",
            "Requirement already satisfied: keras<2.11,>=2.10.0 in /home/justyn/miniconda3/envs/tf/lib/python3.9/site-packages (from tensorflow) (2.10.0)\n",
            "Requirement already satisfied: setuptools in /home/justyn/miniconda3/envs/tf/lib/python3.9/site-packages (from tensorflow) (63.4.1)\n",
            "Requirement already satisfied: tensorflow-estimator<2.11,>=2.10.0 in /home/justyn/miniconda3/envs/tf/lib/python3.9/site-packages (from tensorflow) (2.10.0)\n",
            "Requirement already satisfied: absl-py>=1.0.0 in /home/justyn/miniconda3/envs/tf/lib/python3.9/site-packages (from tensorflow) (1.3.0)\n",
            "Requirement already satisfied: tensorflow-io-gcs-filesystem>=0.23.1 in /home/justyn/miniconda3/envs/tf/lib/python3.9/site-packages (from tensorflow) (0.27.0)\n",
            "Requirement already satisfied: wheel<1.0,>=0.23.0 in /home/justyn/miniconda3/envs/tf/lib/python3.9/site-packages (from astunparse>=1.6.0->tensorflow) (0.37.1)\n",
            "Requirement already satisfied: werkzeug>=1.0.1 in /home/justyn/miniconda3/envs/tf/lib/python3.9/site-packages (from tensorboard<2.11,>=2.10->tensorflow) (2.2.2)\n",
            "Requirement already satisfied: markdown>=2.6.8 in /home/justyn/miniconda3/envs/tf/lib/python3.9/site-packages (from tensorboard<2.11,>=2.10->tensorflow) (3.4.1)\n",
            "Requirement already satisfied: requests<3,>=2.21.0 in /home/justyn/miniconda3/envs/tf/lib/python3.9/site-packages (from tensorboard<2.11,>=2.10->tensorflow) (2.28.1)\n",
            "Requirement already satisfied: tensorboard-plugin-wit>=1.6.0 in /home/justyn/miniconda3/envs/tf/lib/python3.9/site-packages (from tensorboard<2.11,>=2.10->tensorflow) (1.8.1)\n",
            "Requirement already satisfied: tensorboard-data-server<0.7.0,>=0.6.0 in /home/justyn/miniconda3/envs/tf/lib/python3.9/site-packages (from tensorboard<2.11,>=2.10->tensorflow) (0.6.1)\n",
            "Requirement already satisfied: google-auth<3,>=1.6.3 in /home/justyn/miniconda3/envs/tf/lib/python3.9/site-packages (from tensorboard<2.11,>=2.10->tensorflow) (2.13.0)\n",
            "Requirement already satisfied: google-auth-oauthlib<0.5,>=0.4.1 in /home/justyn/miniconda3/envs/tf/lib/python3.9/site-packages (from tensorboard<2.11,>=2.10->tensorflow) (0.4.6)\n",
            "Requirement already satisfied: pyparsing!=3.0.5,>=2.0.2 in /home/justyn/miniconda3/envs/tf/lib/python3.9/site-packages (from packaging->tensorflow) (3.0.9)\n",
            "Requirement already satisfied: pyasn1-modules>=0.2.1 in /home/justyn/miniconda3/envs/tf/lib/python3.9/site-packages (from google-auth<3,>=1.6.3->tensorboard<2.11,>=2.10->tensorflow) (0.2.8)\n",
            "Requirement already satisfied: cachetools<6.0,>=2.0.0 in /home/justyn/miniconda3/envs/tf/lib/python3.9/site-packages (from google-auth<3,>=1.6.3->tensorboard<2.11,>=2.10->tensorflow) (5.2.0)\n",
            "Requirement already satisfied: rsa<5,>=3.1.4 in /home/justyn/miniconda3/envs/tf/lib/python3.9/site-packages (from google-auth<3,>=1.6.3->tensorboard<2.11,>=2.10->tensorflow) (4.9)\n",
            "Requirement already satisfied: requests-oauthlib>=0.7.0 in /home/justyn/miniconda3/envs/tf/lib/python3.9/site-packages (from google-auth-oauthlib<0.5,>=0.4.1->tensorboard<2.11,>=2.10->tensorflow) (1.3.1)\n",
            "Requirement already satisfied: importlib-metadata>=4.4 in /home/justyn/miniconda3/envs/tf/lib/python3.9/site-packages (from markdown>=2.6.8->tensorboard<2.11,>=2.10->tensorflow) (5.0.0)\n",
            "Requirement already satisfied: idna<4,>=2.5 in /home/justyn/miniconda3/envs/tf/lib/python3.9/site-packages (from requests<3,>=2.21.0->tensorboard<2.11,>=2.10->tensorflow) (3.4)\n",
            "Requirement already satisfied: certifi>=2017.4.17 in /home/justyn/miniconda3/envs/tf/lib/python3.9/site-packages (from requests<3,>=2.21.0->tensorboard<2.11,>=2.10->tensorflow) (2022.12.7)\n",
            "Requirement already satisfied: charset-normalizer<3,>=2 in /home/justyn/miniconda3/envs/tf/lib/python3.9/site-packages (from requests<3,>=2.21.0->tensorboard<2.11,>=2.10->tensorflow) (2.1.1)\n",
            "Requirement already satisfied: urllib3<1.27,>=1.21.1 in /home/justyn/miniconda3/envs/tf/lib/python3.9/site-packages (from requests<3,>=2.21.0->tensorboard<2.11,>=2.10->tensorflow) (1.26.12)\n",
            "Requirement already satisfied: MarkupSafe>=2.1.1 in /home/justyn/miniconda3/envs/tf/lib/python3.9/site-packages (from werkzeug>=1.0.1->tensorboard<2.11,>=2.10->tensorflow) (2.1.1)\n",
            "Requirement already satisfied: zipp>=0.5 in /home/justyn/miniconda3/envs/tf/lib/python3.9/site-packages (from importlib-metadata>=4.4->markdown>=2.6.8->tensorboard<2.11,>=2.10->tensorflow) (3.10.0)\n",
            "Requirement already satisfied: pyasn1<0.5.0,>=0.4.6 in /home/justyn/miniconda3/envs/tf/lib/python3.9/site-packages (from pyasn1-modules>=0.2.1->google-auth<3,>=1.6.3->tensorboard<2.11,>=2.10->tensorflow) (0.4.8)\n",
            "Requirement already satisfied: oauthlib>=3.0.0 in /home/justyn/miniconda3/envs/tf/lib/python3.9/site-packages (from requests-oauthlib>=0.7.0->google-auth-oauthlib<0.5,>=0.4.1->tensorboard<2.11,>=2.10->tensorflow) (3.2.2)\n",
            "\n",
            "\u001b[1m[\u001b[0m\u001b[34;49mnotice\u001b[0m\u001b[1;39;49m]\u001b[0m\u001b[39;49m A new release of pip is available: \u001b[0m\u001b[31;49m23.0\u001b[0m\u001b[39;49m -> \u001b[0m\u001b[32;49m23.0.1\u001b[0m\n",
            "\u001b[1m[\u001b[0m\u001b[34;49mnotice\u001b[0m\u001b[1;39;49m]\u001b[0m\u001b[39;49m To update, run: \u001b[0m\u001b[32;49mpip install --upgrade pip\u001b[0m\n",
            "Note: you may need to restart the kernel to use updated packages.\n",
            "/bin/bash: /home/justyn/miniconda3/envs/tf/lib/libtinfo.so.6: no version information available (required by /bin/bash)\n",
            "Requirement already satisfied: numpy in /home/justyn/miniconda3/envs/tf/lib/python3.9/site-packages (1.23.4)\n",
            "\n",
            "\u001b[1m[\u001b[0m\u001b[34;49mnotice\u001b[0m\u001b[1;39;49m]\u001b[0m\u001b[39;49m A new release of pip is available: \u001b[0m\u001b[31;49m23.0\u001b[0m\u001b[39;49m -> \u001b[0m\u001b[32;49m23.0.1\u001b[0m\n",
            "\u001b[1m[\u001b[0m\u001b[34;49mnotice\u001b[0m\u001b[1;39;49m]\u001b[0m\u001b[39;49m To update, run: \u001b[0m\u001b[32;49mpip install --upgrade pip\u001b[0m\n",
            "Note: you may need to restart the kernel to use updated packages.\n",
            "/bin/bash: /home/justyn/miniconda3/envs/tf/lib/libtinfo.so.6: no version information available (required by /bin/bash)\n",
            "Requirement already satisfied: pandas in /home/justyn/miniconda3/envs/tf/lib/python3.9/site-packages (1.5.1)\n",
            "Requirement already satisfied: python-dateutil>=2.8.1 in /home/justyn/miniconda3/envs/tf/lib/python3.9/site-packages (from pandas) (2.8.2)\n",
            "Requirement already satisfied: numpy>=1.20.3 in /home/justyn/miniconda3/envs/tf/lib/python3.9/site-packages (from pandas) (1.23.4)\n",
            "Requirement already satisfied: pytz>=2020.1 in /home/justyn/miniconda3/envs/tf/lib/python3.9/site-packages (from pandas) (2022.5)\n",
            "Requirement already satisfied: six>=1.5 in /home/justyn/miniconda3/envs/tf/lib/python3.9/site-packages (from python-dateutil>=2.8.1->pandas) (1.16.0)\n",
            "\n",
            "\u001b[1m[\u001b[0m\u001b[34;49mnotice\u001b[0m\u001b[1;39;49m]\u001b[0m\u001b[39;49m A new release of pip is available: \u001b[0m\u001b[31;49m23.0\u001b[0m\u001b[39;49m -> \u001b[0m\u001b[32;49m23.0.1\u001b[0m\n",
            "\u001b[1m[\u001b[0m\u001b[34;49mnotice\u001b[0m\u001b[1;39;49m]\u001b[0m\u001b[39;49m To update, run: \u001b[0m\u001b[32;49mpip install --upgrade pip\u001b[0m\n",
            "Note: you may need to restart the kernel to use updated packages.\n"
          ]
        }
      ],
      "source": [
        "%pip install keras\n",
        "%pip install tensorflow\n",
        "%pip install numpy\n",
        "%pip install pandas"
      ]
    },
    {
      "cell_type": "code",
      "execution_count": 35,
      "metadata": {
        "id": "ojsyzmmsRNsN"
      },
      "outputs": [],
      "source": [
        "import pandas as pd\n",
        "import numpy as np\n",
        "from keras.models import Sequential\n",
        "from keras.layers import Dense, LSTM"
      ]
    },
    {
      "cell_type": "code",
      "execution_count": 36,
      "metadata": {
        "colab": {
          "base_uri": "https://localhost:8080/",
          "height": 206
        },
        "id": "awm0UNryRNsN",
        "outputId": "12828129-8c29-4b3b-a02e-57767549641d"
      },
      "outputs": [
        {
          "data": {
            "text/html": [
              "<div>\n",
              "<style scoped>\n",
              "    .dataframe tbody tr th:only-of-type {\n",
              "        vertical-align: middle;\n",
              "    }\n",
              "\n",
              "    .dataframe tbody tr th {\n",
              "        vertical-align: top;\n",
              "    }\n",
              "\n",
              "    .dataframe thead th {\n",
              "        text-align: right;\n",
              "    }\n",
              "</style>\n",
              "<table border=\"1\" class=\"dataframe\">\n",
              "  <thead>\n",
              "    <tr style=\"text-align: right;\">\n",
              "      <th></th>\n",
              "      <th>Unnamed: 0</th>\n",
              "      <th>row_id</th>\n",
              "      <th>text_x</th>\n",
              "      <th>pos</th>\n",
              "      <th>neg</th>\n",
              "      <th>neu</th>\n",
              "      <th>compound</th>\n",
              "      <th>category</th>\n",
              "      <th>rating</th>\n",
              "      <th>label</th>\n",
              "      <th>text_y</th>\n",
              "    </tr>\n",
              "  </thead>\n",
              "  <tbody>\n",
              "    <tr>\n",
              "      <th>0</th>\n",
              "      <td>0</td>\n",
              "      <td>1</td>\n",
              "      <td>love this   well made  sturdy  and very comfor...</td>\n",
              "      <td>0.715</td>\n",
              "      <td>0.000</td>\n",
              "      <td>0.285</td>\n",
              "      <td>0.9558</td>\n",
              "      <td>Home_and_Kitchen_5</td>\n",
              "      <td>5.0</td>\n",
              "      <td>CG</td>\n",
              "      <td>Love this!  Well made, sturdy, and very comfor...</td>\n",
              "    </tr>\n",
              "    <tr>\n",
              "      <th>1</th>\n",
              "      <td>1</td>\n",
              "      <td>2</td>\n",
              "      <td>love it  a great upgrade from the original   i...</td>\n",
              "      <td>0.491</td>\n",
              "      <td>0.000</td>\n",
              "      <td>0.509</td>\n",
              "      <td>0.8910</td>\n",
              "      <td>Home_and_Kitchen_5</td>\n",
              "      <td>5.0</td>\n",
              "      <td>CG</td>\n",
              "      <td>love it, a great upgrade from the original.  I...</td>\n",
              "    </tr>\n",
              "    <tr>\n",
              "      <th>2</th>\n",
              "      <td>2</td>\n",
              "      <td>3</td>\n",
              "      <td>this pillow saved my back  i love the look and...</td>\n",
              "      <td>0.389</td>\n",
              "      <td>0.000</td>\n",
              "      <td>0.611</td>\n",
              "      <td>0.7906</td>\n",
              "      <td>Home_and_Kitchen_5</td>\n",
              "      <td>5.0</td>\n",
              "      <td>CG</td>\n",
              "      <td>This pillow saved my back. I love the look and...</td>\n",
              "    </tr>\n",
              "    <tr>\n",
              "      <th>3</th>\n",
              "      <td>3</td>\n",
              "      <td>4</td>\n",
              "      <td>missing information on how to use it  but it i...</td>\n",
              "      <td>0.279</td>\n",
              "      <td>0.079</td>\n",
              "      <td>0.642</td>\n",
              "      <td>0.7227</td>\n",
              "      <td>Home_and_Kitchen_5</td>\n",
              "      <td>1.0</td>\n",
              "      <td>CG</td>\n",
              "      <td>Missing information on how to use it, but it i...</td>\n",
              "    </tr>\n",
              "    <tr>\n",
              "      <th>4</th>\n",
              "      <td>4</td>\n",
              "      <td>5</td>\n",
              "      <td>very nice set  good quality  we have had the s...</td>\n",
              "      <td>0.281</td>\n",
              "      <td>0.000</td>\n",
              "      <td>0.719</td>\n",
              "      <td>0.7397</td>\n",
              "      <td>Home_and_Kitchen_5</td>\n",
              "      <td>5.0</td>\n",
              "      <td>CG</td>\n",
              "      <td>Very nice set. Good quality. We have had the s...</td>\n",
              "    </tr>\n",
              "  </tbody>\n",
              "</table>\n",
              "</div>"
            ],
            "text/plain": [
              "   Unnamed: 0  row_id                                             text_x  \\\n",
              "0           0       1  love this   well made  sturdy  and very comfor...   \n",
              "1           1       2  love it  a great upgrade from the original   i...   \n",
              "2           2       3  this pillow saved my back  i love the look and...   \n",
              "3           3       4  missing information on how to use it  but it i...   \n",
              "4           4       5  very nice set  good quality  we have had the s...   \n",
              "\n",
              "     pos    neg    neu  compound            category  rating label  \\\n",
              "0  0.715  0.000  0.285    0.9558  Home_and_Kitchen_5     5.0    CG   \n",
              "1  0.491  0.000  0.509    0.8910  Home_and_Kitchen_5     5.0    CG   \n",
              "2  0.389  0.000  0.611    0.7906  Home_and_Kitchen_5     5.0    CG   \n",
              "3  0.279  0.079  0.642    0.7227  Home_and_Kitchen_5     1.0    CG   \n",
              "4  0.281  0.000  0.719    0.7397  Home_and_Kitchen_5     5.0    CG   \n",
              "\n",
              "                                              text_y  \n",
              "0  Love this!  Well made, sturdy, and very comfor...  \n",
              "1  love it, a great upgrade from the original.  I...  \n",
              "2  This pillow saved my back. I love the look and...  \n",
              "3  Missing information on how to use it, but it i...  \n",
              "4  Very nice set. Good quality. We have had the s...  "
            ]
          },
          "execution_count": 36,
          "metadata": {},
          "output_type": "execute_result"
        }
      ],
      "source": [
        "# Load in the dataset\n",
        "df1 = pd.read_csv(\"../resources/sentiment_scores.csv\")\n",
        "df2 = pd.read_csv(\"../resources/raw-dataset.csv\")\n",
        "df = pd.merge(df1, df2, on='row_id')\n",
        "df.head()"
      ]
    },
    {
      "cell_type": "code",
      "execution_count": 37,
      "metadata": {
        "id": "S5t_ZBKVRNsN"
      },
      "outputs": [],
      "source": [
        "# Create a new column called real, if label==CG set to 0, or False, if set to OR set to 1, or True\n",
        "df['real'] = df['label'].apply(lambda x: 0 if x == 'CG' else 1)\n",
        "# Randomize the order of the data\n",
        "df = df.sample(frac=1).reset_index(drop=True)\n",
        "# Split into train and test data\n",
        "train = df[:int(len(df)*0.8)]\n",
        "test = df[int(len(df)*0.8):]"
      ]
    },
    {
      "cell_type": "code",
      "execution_count": 38,
      "metadata": {
        "id": "xDmSMMAsRNsO"
      },
      "outputs": [],
      "source": [
        "# For training we only need the scores and the label\n",
        "train_x = train[['pos', 'neg', 'neu', 'compound']]\n",
        "train_y = train['real']\n",
        "\n",
        "test_x = test[['pos', 'neg', 'neu', 'compound']]\n",
        "test_y = test['real']"
      ]
    },
    {
      "cell_type": "code",
      "execution_count": 39,
      "metadata": {
        "id": "JuhixaQJRNsO"
      },
      "outputs": [],
      "source": [
        "# Reshape the data to be 3D\n",
        "train_x = np.array(train_x).reshape((train_x.shape[0], 1, train_x.shape[1]))\n",
        "test_x = np.array(test_x).reshape((test_x.shape[0], 1, test_x.shape[1]))\n",
        "\n",
        "# change the train data to be a float type\n",
        "train_x = train_x.astype('float32')\n",
        "test_x = test_x.astype('float32')"
      ]
    },
    {
      "cell_type": "code",
      "execution_count": 40,
      "metadata": {
        "id": "N2SsIo64RNsO"
      },
      "outputs": [],
      "source": [
        "# Create the model\n",
        "model = Sequential()\n",
        "model.add(LSTM(100, input_shape=(train_x.shape[1], train_x.shape[2])))\n",
        "model.add(Dense(1, activation='sigmoid'))\n",
        "model.compile(loss='binary_crossentropy', optimizer='adam', metrics=['accuracy'])"
      ]
    },
    {
      "cell_type": "code",
      "execution_count": 13,
      "metadata": {
        "colab": {
          "base_uri": "https://localhost:8080/",
          "height": 1000
        },
        "id": "OsmMiid0RNsO",
        "outputId": "5b3ea07e-c451-4a5e-a912-ac81f1ce2e33"
      },
      "outputs": [
        {
          "name": "stdout",
          "output_type": "stream",
          "text": [
            "Epoch 1/50\n",
            "1011/1011 - 8s - loss: 0.6518 - accuracy: 0.6110 - val_loss: 0.6557 - val_accuracy: 0.6063 - 8s/epoch - 8ms/step\n",
            "Epoch 2/50\n",
            "1011/1011 - 8s - loss: 0.6517 - accuracy: 0.6106 - val_loss: 0.6555 - val_accuracy: 0.6064 - 8s/epoch - 8ms/step\n",
            "Epoch 3/50\n",
            "1011/1011 - 9s - loss: 0.6515 - accuracy: 0.6108 - val_loss: 0.6553 - val_accuracy: 0.6071 - 9s/epoch - 9ms/step\n",
            "Epoch 4/50\n",
            "1011/1011 - 8s - loss: 0.6513 - accuracy: 0.6115 - val_loss: 0.6551 - val_accuracy: 0.6089 - 8s/epoch - 8ms/step\n",
            "Epoch 5/50\n",
            "1011/1011 - 8s - loss: 0.6511 - accuracy: 0.6122 - val_loss: 0.6550 - val_accuracy: 0.6109 - 8s/epoch - 8ms/step\n",
            "Epoch 6/50\n",
            "1011/1011 - 11s - loss: 0.6509 - accuracy: 0.6123 - val_loss: 0.6548 - val_accuracy: 0.6127 - 11s/epoch - 11ms/step\n",
            "Epoch 7/50\n",
            "1011/1011 - 8s - loss: 0.6507 - accuracy: 0.6119 - val_loss: 0.6547 - val_accuracy: 0.6128 - 8s/epoch - 8ms/step\n",
            "Epoch 8/50\n",
            "1011/1011 - 8s - loss: 0.6506 - accuracy: 0.6126 - val_loss: 0.6545 - val_accuracy: 0.6136 - 8s/epoch - 8ms/step\n",
            "Epoch 9/50\n",
            "1011/1011 - 7s - loss: 0.6504 - accuracy: 0.6123 - val_loss: 0.6544 - val_accuracy: 0.6137 - 7s/epoch - 7ms/step\n",
            "Epoch 10/50\n",
            "1011/1011 - 8s - loss: 0.6502 - accuracy: 0.6133 - val_loss: 0.6542 - val_accuracy: 0.6147 - 8s/epoch - 8ms/step\n",
            "Epoch 11/50\n",
            "1011/1011 - 8s - loss: 0.6501 - accuracy: 0.6138 - val_loss: 0.6541 - val_accuracy: 0.6154 - 8s/epoch - 8ms/step\n",
            "Epoch 12/50\n",
            "1011/1011 - 10s - loss: 0.6499 - accuracy: 0.6141 - val_loss: 0.6540 - val_accuracy: 0.6162 - 10s/epoch - 9ms/step\n",
            "Epoch 13/50\n",
            "1011/1011 - 9s - loss: 0.6498 - accuracy: 0.6141 - val_loss: 0.6538 - val_accuracy: 0.6152 - 9s/epoch - 8ms/step\n",
            "Epoch 14/50\n",
            "1011/1011 - 9s - loss: 0.6497 - accuracy: 0.6147 - val_loss: 0.6537 - val_accuracy: 0.6165 - 9s/epoch - 9ms/step\n",
            "Epoch 15/50\n",
            "1011/1011 - 8s - loss: 0.6495 - accuracy: 0.6148 - val_loss: 0.6536 - val_accuracy: 0.6172 - 8s/epoch - 8ms/step\n",
            "Epoch 16/50\n",
            "1011/1011 - 8s - loss: 0.6494 - accuracy: 0.6154 - val_loss: 0.6535 - val_accuracy: 0.6172 - 8s/epoch - 8ms/step\n",
            "Epoch 17/50\n",
            "1011/1011 - 8s - loss: 0.6493 - accuracy: 0.6159 - val_loss: 0.6534 - val_accuracy: 0.6178 - 8s/epoch - 8ms/step\n",
            "Epoch 18/50\n",
            "1011/1011 - 8s - loss: 0.6492 - accuracy: 0.6161 - val_loss: 0.6533 - val_accuracy: 0.6168 - 8s/epoch - 8ms/step\n",
            "Epoch 19/50\n",
            "1011/1011 - 8s - loss: 0.6490 - accuracy: 0.6159 - val_loss: 0.6532 - val_accuracy: 0.6162 - 8s/epoch - 8ms/step\n",
            "Epoch 20/50\n",
            "1011/1011 - 10s - loss: 0.6489 - accuracy: 0.6156 - val_loss: 0.6531 - val_accuracy: 0.6157 - 10s/epoch - 9ms/step\n",
            "Epoch 21/50\n",
            "1011/1011 - 9s - loss: 0.6488 - accuracy: 0.6159 - val_loss: 0.6530 - val_accuracy: 0.6153 - 9s/epoch - 9ms/step\n",
            "Epoch 22/50\n",
            "1011/1011 - 9s - loss: 0.6487 - accuracy: 0.6160 - val_loss: 0.6529 - val_accuracy: 0.6163 - 9s/epoch - 9ms/step\n",
            "Epoch 23/50\n",
            "1011/1011 - 8s - loss: 0.6486 - accuracy: 0.6164 - val_loss: 0.6528 - val_accuracy: 0.6164 - 8s/epoch - 8ms/step\n",
            "Epoch 24/50\n",
            "1011/1011 - 8s - loss: 0.6485 - accuracy: 0.6164 - val_loss: 0.6527 - val_accuracy: 0.6157 - 8s/epoch - 8ms/step\n",
            "Epoch 25/50\n",
            "1011/1011 - 8s - loss: 0.6484 - accuracy: 0.6163 - val_loss: 0.6527 - val_accuracy: 0.6158 - 8s/epoch - 8ms/step\n",
            "Epoch 26/50\n",
            "1011/1011 - 9s - loss: 0.6484 - accuracy: 0.6167 - val_loss: 0.6526 - val_accuracy: 0.6157 - 9s/epoch - 8ms/step\n",
            "Epoch 27/50\n",
            "1011/1011 - 9s - loss: 0.6483 - accuracy: 0.6172 - val_loss: 0.6525 - val_accuracy: 0.6161 - 9s/epoch - 9ms/step\n",
            "Epoch 28/50\n",
            "1011/1011 - 8s - loss: 0.6482 - accuracy: 0.6172 - val_loss: 0.6524 - val_accuracy: 0.6159 - 8s/epoch - 8ms/step\n",
            "Epoch 29/50\n",
            "1011/1011 - 10s - loss: 0.6481 - accuracy: 0.6170 - val_loss: 0.6524 - val_accuracy: 0.6163 - 10s/epoch - 9ms/step\n",
            "Epoch 30/50\n",
            "1011/1011 - 8s - loss: 0.6480 - accuracy: 0.6172 - val_loss: 0.6523 - val_accuracy: 0.6159 - 8s/epoch - 8ms/step\n",
            "Epoch 31/50\n",
            "1011/1011 - 8s - loss: 0.6479 - accuracy: 0.6170 - val_loss: 0.6522 - val_accuracy: 0.6153 - 8s/epoch - 8ms/step\n",
            "Epoch 32/50\n",
            "1011/1011 - 9s - loss: 0.6479 - accuracy: 0.6171 - val_loss: 0.6521 - val_accuracy: 0.6159 - 9s/epoch - 9ms/step\n",
            "Epoch 33/50\n",
            "1011/1011 - 8s - loss: 0.6478 - accuracy: 0.6171 - val_loss: 0.6521 - val_accuracy: 0.6161 - 8s/epoch - 8ms/step\n",
            "Epoch 34/50\n",
            "1011/1011 - 9s - loss: 0.6477 - accuracy: 0.6173 - val_loss: 0.6520 - val_accuracy: 0.6162 - 9s/epoch - 8ms/step\n",
            "Epoch 35/50\n",
            "1011/1011 - 8s - loss: 0.6476 - accuracy: 0.6177 - val_loss: 0.6519 - val_accuracy: 0.6169 - 8s/epoch - 8ms/step\n",
            "Epoch 36/50\n",
            "1011/1011 - 9s - loss: 0.6476 - accuracy: 0.6177 - val_loss: 0.6519 - val_accuracy: 0.6167 - 9s/epoch - 8ms/step\n",
            "Epoch 37/50\n",
            "1011/1011 - 9s - loss: 0.6475 - accuracy: 0.6176 - val_loss: 0.6518 - val_accuracy: 0.6173 - 9s/epoch - 9ms/step\n",
            "Epoch 38/50\n",
            "1011/1011 - 9s - loss: 0.6474 - accuracy: 0.6177 - val_loss: 0.6518 - val_accuracy: 0.6173 - 9s/epoch - 9ms/step\n",
            "Epoch 39/50\n",
            "1011/1011 - 8s - loss: 0.6474 - accuracy: 0.6179 - val_loss: 0.6517 - val_accuracy: 0.6170 - 8s/epoch - 8ms/step\n",
            "Epoch 40/50\n",
            "1011/1011 - 9s - loss: 0.6473 - accuracy: 0.6181 - val_loss: 0.6516 - val_accuracy: 0.6177 - 9s/epoch - 9ms/step\n",
            "Epoch 41/50\n",
            "1011/1011 - 8s - loss: 0.6473 - accuracy: 0.6186 - val_loss: 0.6516 - val_accuracy: 0.6175 - 8s/epoch - 8ms/step\n",
            "Epoch 42/50\n",
            "1011/1011 - 8s - loss: 0.6472 - accuracy: 0.6187 - val_loss: 0.6515 - val_accuracy: 0.6170 - 8s/epoch - 8ms/step\n",
            "Epoch 43/50\n",
            "1011/1011 - 8s - loss: 0.6471 - accuracy: 0.6191 - val_loss: 0.6515 - val_accuracy: 0.6169 - 8s/epoch - 8ms/step\n",
            "Epoch 44/50\n",
            "1011/1011 - 8s - loss: 0.6471 - accuracy: 0.6194 - val_loss: 0.6514 - val_accuracy: 0.6165 - 8s/epoch - 8ms/step\n",
            "Epoch 45/50\n",
            "1011/1011 - 8s - loss: 0.6470 - accuracy: 0.6193 - val_loss: 0.6514 - val_accuracy: 0.6163 - 8s/epoch - 8ms/step\n",
            "Epoch 46/50\n",
            "1011/1011 - 8s - loss: 0.6470 - accuracy: 0.6196 - val_loss: 0.6513 - val_accuracy: 0.6158 - 8s/epoch - 8ms/step\n",
            "Epoch 47/50\n",
            "1011/1011 - 9s - loss: 0.6469 - accuracy: 0.6196 - val_loss: 0.6512 - val_accuracy: 0.6161 - 9s/epoch - 8ms/step\n",
            "Epoch 48/50\n",
            "1011/1011 - 8s - loss: 0.6468 - accuracy: 0.6199 - val_loss: 0.6512 - val_accuracy: 0.6162 - 8s/epoch - 8ms/step\n",
            "Epoch 49/50\n",
            "1011/1011 - 8s - loss: 0.6468 - accuracy: 0.6203 - val_loss: 0.6511 - val_accuracy: 0.6163 - 8s/epoch - 8ms/step\n",
            "Epoch 50/50\n",
            "1011/1011 - 8s - loss: 0.6467 - accuracy: 0.6202 - val_loss: 0.6511 - val_accuracy: 0.6161 - 8s/epoch - 8ms/step\n"
          ]
        },
        {
          "data": {
            "text/plain": [
              "<keras.callbacks.History at 0x7fec9844d190>"
            ]
          },
          "execution_count": 13,
          "metadata": {},
          "output_type": "execute_result"
        }
      ],
      "source": [
        "# Train\n",
        "model.fit(train_x, train_y, epochs=50, batch_size=32, validation_data=(test_x, test_y), verbose=2, shuffle=False)"
      ]
    },
    {
      "cell_type": "code",
      "execution_count": null,
      "metadata": {
        "colab": {
          "base_uri": "https://localhost:8080/"
        },
        "id": "Y92Ci3Z9RNsP",
        "outputId": "43646056-8a3d-46f3-cc5e-24f49015df8a"
      },
      "outputs": [
        {
          "name": "stderr",
          "output_type": "stream",
          "text": [
            "WARNING:absl:Found untraced functions such as _update_step_xla, lstm_cell_layer_call_fn, lstm_cell_layer_call_and_return_conditional_losses while saving (showing 3 of 3). These functions will not be directly callable after loading.\n"
          ]
        }
      ],
      "source": [
        "# These will be our x data\n",
        "model.save(\"trained_model_on_sentiment_data\")"
      ]
    },
    {
      "cell_type": "code",
      "execution_count": 41,
      "metadata": {
        "colab": {
          "base_uri": "https://localhost:8080/"
        },
        "id": "gbbd685fc9iZ",
        "outputId": "c9b18a7a-ae9a-4fd8-f291-d8c431a35684"
      },
      "outputs": [
        {
          "name": "stdout",
          "output_type": "stream",
          "text": [
            "253/253 [==============================] - 1s 4ms/step\n"
          ]
        }
      ],
      "source": [
        "# After model training, we want to test our data\n",
        "\n",
        "predictions = model.predict(test_x)\n",
        "predictions = [1 if x > 0.5 else 0 for x in predictions]\n",
        "actual = [x for x in test_y]\n",
        "comparisons = pd.DataFrame({'prediction': predictions, 'actual': actual})\n",
        "comparisons['correct'] = comparisons.apply(lambda x: 1 if x['prediction'] == x['actual'] else 0, axis=1)\n"
      ]
    },
    {
      "cell_type": "code",
      "execution_count": 42,
      "metadata": {
        "colab": {
          "base_uri": "https://localhost:8080/"
        },
        "id": "awhEwme5eKVN",
        "outputId": "535ce4a3-6c1c-4447-963e-194eac31b4dc"
      },
      "outputs": [
        {
          "name": "stdout",
          "output_type": "stream",
          "text": [
            "<class 'pandas.core.frame.DataFrame'>\n",
            "RangeIndex: 40432 entries, 0 to 40431\n",
            "Data columns (total 29 columns):\n",
            " #   Column           Non-Null Count  Dtype  \n",
            "---  ------           --------------  -----  \n",
            " 0   row_id           40432 non-null  int64  \n",
            " 1   neg              40432 non-null  float64\n",
            " 2   neu              40432 non-null  float64\n",
            " 3   pos              40432 non-null  float64\n",
            " 4   compound         40432 non-null  float64\n",
            " 5   total_words      40432 non-null  int64  \n",
            " 6   unique_words     40432 non-null  int64  \n",
            " 7   noun_count       40432 non-null  float64\n",
            " 8   adj_count        40432 non-null  float64\n",
            " 9   verb_count       40432 non-null  float64\n",
            " 10  adv_count        40432 non-null  float64\n",
            " 11  pro_count        40432 non-null  float64\n",
            " 12  pre_count        40432 non-null  float64\n",
            " 13  con_count        40432 non-null  float64\n",
            " 14  art_count        40432 non-null  float64\n",
            " 15  nega_count       40432 non-null  float64\n",
            " 16  aux_count        40432 non-null  float64\n",
            " 17  noun_percentage  40432 non-null  float64\n",
            " 18  adj_percentage   40432 non-null  float64\n",
            " 19  verb_percentage  40432 non-null  float64\n",
            " 20  adv_percentage   40432 non-null  float64\n",
            " 21  pro_percentage   40432 non-null  float64\n",
            " 22  pre_percentage   40432 non-null  float64\n",
            " 23  con_percentage   40432 non-null  float64\n",
            " 24  art_percentage   40432 non-null  float64\n",
            " 25  nega_percentage  40432 non-null  float64\n",
            " 26  aux_percentage   40432 non-null  float64\n",
            " 27  rating           40432 non-null  float64\n",
            " 28  real             40432 non-null  int64  \n",
            "dtypes: float64(25), int64(4)\n",
            "memory usage: 8.9 MB\n"
          ]
        }
      ],
      "source": [
        "# Load in the dataset\n",
        "df1 = pd.read_csv(\"../resources/cleaned_data.csv\")\n",
        "df2 = pd.read_csv(\"../resources/raw-dataset.csv\")\n",
        "df = pd.merge(df1, df2, on='row_id')\n",
        "df.head()\n",
        "df = df.drop(columns=[\"Unnamed: 0\"])\n",
        "\n",
        "# Create a new column called real, if label==CG set to 0, or False, if set to OR set to 1, or True\n",
        "df['real'] = df['label'].apply(lambda x: 0 if x == 'CG' else 1)\n",
        "# Only use columns with float types or int types\n",
        "df = df.select_dtypes(include=['int64', 'float64'])\n",
        "# Randomize the order of the data\n",
        "df = df.sample(frac=1).reset_index(drop=True)\n",
        "# Split into train and test data\n",
        "train = df[:int(len(df)*0.8)]\n",
        "test = df[int(len(df)*0.8):]\n",
        "df.info()"
      ]
    },
    {
      "cell_type": "code",
      "execution_count": 46,
      "metadata": {
        "id": "r5TRxJT_e-rw"
      },
      "outputs": [],
      "source": [
        "# For training we only need the scores and the label\n",
        "train_x = train.drop(columns=[\"real\"])\n",
        "train_y = train['real']\n",
        "\n",
        "test_x = test.drop(columns=[\"real\"])\n",
        "test_y = test['real']"
      ]
    },
    {
      "cell_type": "code",
      "execution_count": 47,
      "metadata": {
        "colab": {
          "base_uri": "https://localhost:8080/"
        },
        "id": "8CdehhTOgmp8",
        "outputId": "7c577b17-b769-4d00-d242-15b6ec031b0a"
      },
      "outputs": [
        {
          "name": "stdout",
          "output_type": "stream",
          "text": [
            "Epoch 1/50\n",
            "1011/1011 [==============================] - 11s 9ms/step - loss: 0.6932 - accuracy: 0.5059 - val_loss: 0.6915 - val_accuracy: 0.4973\n",
            "Epoch 2/50\n",
            "1011/1011 [==============================] - 9s 9ms/step - loss: 0.6921 - accuracy: 0.5079 - val_loss: 0.6917 - val_accuracy: 0.4946\n",
            "Epoch 3/50\n",
            "1011/1011 [==============================] - 10s 10ms/step - loss: 0.6927 - accuracy: 0.5021 - val_loss: 0.6922 - val_accuracy: 0.5051\n",
            "Epoch 4/50\n",
            "1011/1011 [==============================] - 10s 10ms/step - loss: 0.6931 - accuracy: 0.5006 - val_loss: 0.6931 - val_accuracy: 0.4977\n",
            "Epoch 5/50\n",
            "1011/1011 [==============================] - 10s 10ms/step - loss: 0.6926 - accuracy: 0.5019 - val_loss: 0.6919 - val_accuracy: 0.4991\n",
            "Epoch 6/50\n",
            "1011/1011 [==============================] - 10s 10ms/step - loss: 0.6924 - accuracy: 0.5030 - val_loss: 0.6918 - val_accuracy: 0.5054\n",
            "Epoch 7/50\n",
            "1011/1011 [==============================] - 11s 10ms/step - loss: 0.6928 - accuracy: 0.5024 - val_loss: 0.6920 - val_accuracy: 0.5056\n",
            "Epoch 8/50\n",
            "1011/1011 [==============================] - 10s 10ms/step - loss: 0.6924 - accuracy: 0.5019 - val_loss: 0.6917 - val_accuracy: 0.5050\n",
            "Epoch 9/50\n",
            "1011/1011 [==============================] - 10s 10ms/step - loss: 0.6924 - accuracy: 0.5014 - val_loss: 0.6919 - val_accuracy: 0.5050\n",
            "Epoch 10/50\n",
            "1011/1011 [==============================] - 10s 10ms/step - loss: 0.6922 - accuracy: 0.5015 - val_loss: 0.6916 - val_accuracy: 0.5054\n",
            "Epoch 11/50\n",
            "1009/1011 [============================>.] - ETA: 0s - loss: 0.6919 - accuracy: 0.5032"
          ]
        }
      ],
      "source": [
        "# Reshape the data to be 3D\n",
        "train_x = train_x.astype('float32')\n",
        "test_x = test_x.astype('float32')\n",
        "\n",
        "train_x = np.array(train_x).reshape((train_x.shape[0], 1, train_x.shape[1]))\n",
        "test_x = np.array(test_x).reshape((test_x.shape[0], 1, test_x.shape[1]))\n",
        "\n",
        "# change the train data to be a float type\n",
        "# Create the model\n",
        "model = Sequential()\n",
        "model.add(LSTM(100, input_shape=(train_x.shape[1], train_x.shape[2])))\n",
        "model.add(Dense(1, activation='sigmoid'))\n",
        "model.compile(loss='binary_crossentropy', optimizer='adam', metrics=['accuracy'])\n",
        "# Train\n",
        "history = model.fit(train_x, train_y, epochs=50, batch_size=32, validation_data=(test_x, test_y), shuffle=False)"
      ]
    },
    {
      "cell_type": "code",
      "execution_count": null,
      "metadata": {
        "colab": {
          "base_uri": "https://localhost:8080/"
        },
        "id": "H7JO9TVxhmTg",
        "outputId": "24b6538a-99f3-4b6d-b330-7b40c68cb425"
      },
      "outputs": [
        {
          "name": "stdout",
          "output_type": "stream",
          "text": [
            "253/253 [==============================] - 1s 2ms/step\n"
          ]
        }
      ],
      "source": [
        "# After model training, we want to test our data\n",
        "\n",
        "predictions = model.predict(test_x)\n",
        "predictions = [1 if x > 0.5 else 0 for x in predictions]\n"
      ]
    },
    {
      "cell_type": "code",
      "execution_count": null,
      "metadata": {
        "colab": {
          "base_uri": "https://localhost:8080/",
          "height": 424
        },
        "id": "4dHriDmiiNe6",
        "outputId": "273935bf-65f5-4b22-9e82-5e4d45ff9de9"
      },
      "outputs": [
        {
          "data": {
            "text/html": [
              "\n",
              "  <div id=\"df-742185b5-3f83-41ec-a510-051a7e788a0d\">\n",
              "    <div class=\"colab-df-container\">\n",
              "      <div>\n",
              "<style scoped>\n",
              "    .dataframe tbody tr th:only-of-type {\n",
              "        vertical-align: middle;\n",
              "    }\n",
              "\n",
              "    .dataframe tbody tr th {\n",
              "        vertical-align: top;\n",
              "    }\n",
              "\n",
              "    .dataframe thead th {\n",
              "        text-align: right;\n",
              "    }\n",
              "</style>\n",
              "<table border=\"1\" class=\"dataframe\">\n",
              "  <thead>\n",
              "    <tr style=\"text-align: right;\">\n",
              "      <th></th>\n",
              "      <th>prediction</th>\n",
              "      <th>actual</th>\n",
              "      <th>correct</th>\n",
              "    </tr>\n",
              "  </thead>\n",
              "  <tbody>\n",
              "    <tr>\n",
              "      <th>0</th>\n",
              "      <td>0</td>\n",
              "      <td>1</td>\n",
              "      <td>0</td>\n",
              "    </tr>\n",
              "    <tr>\n",
              "      <th>1</th>\n",
              "      <td>0</td>\n",
              "      <td>0</td>\n",
              "      <td>1</td>\n",
              "    </tr>\n",
              "    <tr>\n",
              "      <th>2</th>\n",
              "      <td>0</td>\n",
              "      <td>1</td>\n",
              "      <td>0</td>\n",
              "    </tr>\n",
              "    <tr>\n",
              "      <th>3</th>\n",
              "      <td>0</td>\n",
              "      <td>1</td>\n",
              "      <td>0</td>\n",
              "    </tr>\n",
              "    <tr>\n",
              "      <th>4</th>\n",
              "      <td>1</td>\n",
              "      <td>1</td>\n",
              "      <td>1</td>\n",
              "    </tr>\n",
              "    <tr>\n",
              "      <th>...</th>\n",
              "      <td>...</td>\n",
              "      <td>...</td>\n",
              "      <td>...</td>\n",
              "    </tr>\n",
              "    <tr>\n",
              "      <th>8082</th>\n",
              "      <td>0</td>\n",
              "      <td>0</td>\n",
              "      <td>1</td>\n",
              "    </tr>\n",
              "    <tr>\n",
              "      <th>8083</th>\n",
              "      <td>0</td>\n",
              "      <td>0</td>\n",
              "      <td>1</td>\n",
              "    </tr>\n",
              "    <tr>\n",
              "      <th>8084</th>\n",
              "      <td>0</td>\n",
              "      <td>0</td>\n",
              "      <td>1</td>\n",
              "    </tr>\n",
              "    <tr>\n",
              "      <th>8085</th>\n",
              "      <td>0</td>\n",
              "      <td>1</td>\n",
              "      <td>0</td>\n",
              "    </tr>\n",
              "    <tr>\n",
              "      <th>8086</th>\n",
              "      <td>0</td>\n",
              "      <td>1</td>\n",
              "      <td>0</td>\n",
              "    </tr>\n",
              "  </tbody>\n",
              "</table>\n",
              "<p>8087 rows × 3 columns</p>\n",
              "</div>\n",
              "      <button class=\"colab-df-convert\" onclick=\"convertToInteractive('df-742185b5-3f83-41ec-a510-051a7e788a0d')\"\n",
              "              title=\"Convert this dataframe to an interactive table.\"\n",
              "              style=\"display:none;\">\n",
              "        \n",
              "  <svg xmlns=\"http://www.w3.org/2000/svg\" height=\"24px\"viewBox=\"0 0 24 24\"\n",
              "       width=\"24px\">\n",
              "    <path d=\"M0 0h24v24H0V0z\" fill=\"none\"/>\n",
              "    <path d=\"M18.56 5.44l.94 2.06.94-2.06 2.06-.94-2.06-.94-.94-2.06-.94 2.06-2.06.94zm-11 1L8.5 8.5l.94-2.06 2.06-.94-2.06-.94L8.5 2.5l-.94 2.06-2.06.94zm10 10l.94 2.06.94-2.06 2.06-.94-2.06-.94-.94-2.06-.94 2.06-2.06.94z\"/><path d=\"M17.41 7.96l-1.37-1.37c-.4-.4-.92-.59-1.43-.59-.52 0-1.04.2-1.43.59L10.3 9.45l-7.72 7.72c-.78.78-.78 2.05 0 2.83L4 21.41c.39.39.9.59 1.41.59.51 0 1.02-.2 1.41-.59l7.78-7.78 2.81-2.81c.8-.78.8-2.07 0-2.86zM5.41 20L4 18.59l7.72-7.72 1.47 1.35L5.41 20z\"/>\n",
              "  </svg>\n",
              "      </button>\n",
              "      \n",
              "  <style>\n",
              "    .colab-df-container {\n",
              "      display:flex;\n",
              "      flex-wrap:wrap;\n",
              "      gap: 12px;\n",
              "    }\n",
              "\n",
              "    .colab-df-convert {\n",
              "      background-color: #E8F0FE;\n",
              "      border: none;\n",
              "      border-radius: 50%;\n",
              "      cursor: pointer;\n",
              "      display: none;\n",
              "      fill: #1967D2;\n",
              "      height: 32px;\n",
              "      padding: 0 0 0 0;\n",
              "      width: 32px;\n",
              "    }\n",
              "\n",
              "    .colab-df-convert:hover {\n",
              "      background-color: #E2EBFA;\n",
              "      box-shadow: 0px 1px 2px rgba(60, 64, 67, 0.3), 0px 1px 3px 1px rgba(60, 64, 67, 0.15);\n",
              "      fill: #174EA6;\n",
              "    }\n",
              "\n",
              "    [theme=dark] .colab-df-convert {\n",
              "      background-color: #3B4455;\n",
              "      fill: #D2E3FC;\n",
              "    }\n",
              "\n",
              "    [theme=dark] .colab-df-convert:hover {\n",
              "      background-color: #434B5C;\n",
              "      box-shadow: 0px 1px 3px 1px rgba(0, 0, 0, 0.15);\n",
              "      filter: drop-shadow(0px 1px 2px rgba(0, 0, 0, 0.3));\n",
              "      fill: #FFFFFF;\n",
              "    }\n",
              "  </style>\n",
              "\n",
              "      <script>\n",
              "        const buttonEl =\n",
              "          document.querySelector('#df-742185b5-3f83-41ec-a510-051a7e788a0d button.colab-df-convert');\n",
              "        buttonEl.style.display =\n",
              "          google.colab.kernel.accessAllowed ? 'block' : 'none';\n",
              "\n",
              "        async function convertToInteractive(key) {\n",
              "          const element = document.querySelector('#df-742185b5-3f83-41ec-a510-051a7e788a0d');\n",
              "          const dataTable =\n",
              "            await google.colab.kernel.invokeFunction('convertToInteractive',\n",
              "                                                     [key], {});\n",
              "          if (!dataTable) return;\n",
              "\n",
              "          const docLinkHtml = 'Like what you see? Visit the ' +\n",
              "            '<a target=\"_blank\" href=https://colab.research.google.com/notebooks/data_table.ipynb>data table notebook</a>'\n",
              "            + ' to learn more about interactive tables.';\n",
              "          element.innerHTML = '';\n",
              "          dataTable['output_type'] = 'display_data';\n",
              "          await google.colab.output.renderOutput(dataTable, element);\n",
              "          const docLink = document.createElement('div');\n",
              "          docLink.innerHTML = docLinkHtml;\n",
              "          element.appendChild(docLink);\n",
              "        }\n",
              "      </script>\n",
              "    </div>\n",
              "  </div>\n",
              "  "
            ],
            "text/plain": [
              "      prediction  actual  correct\n",
              "0              0       1        0\n",
              "1              0       0        1\n",
              "2              0       1        0\n",
              "3              0       1        0\n",
              "4              1       1        1\n",
              "...          ...     ...      ...\n",
              "8082           0       0        1\n",
              "8083           0       0        1\n",
              "8084           0       0        1\n",
              "8085           0       1        0\n",
              "8086           0       1        0\n",
              "\n",
              "[8087 rows x 3 columns]"
            ]
          },
          "execution_count": 29,
          "metadata": {},
          "output_type": "execute_result"
        }
      ],
      "source": [
        "actual = [x for x in test_y]\n",
        "comparisons = pd.DataFrame({'prediction': predictions, 'actual': actual})\n",
        "comparisons['correct'] = comparisons.apply(lambda x: 1 if x['prediction'] == x['actual'] else 0, axis=1)\n",
        "comparisons"
      ]
    },
    {
      "cell_type": "code",
      "execution_count": null,
      "metadata": {
        "colab": {
          "base_uri": "https://localhost:8080/"
        },
        "id": "foVV0IaJkG9-",
        "outputId": "88c470d7-6602-4903-cede-a7870d8d8e1c"
      },
      "outputs": [
        {
          "name": "stdout",
          "output_type": "stream",
          "text": [
            "TN    3594\n",
            "FN    3464\n",
            "TP     580\n",
            "FP     449\n",
            "Name: classification, dtype: int64\n"
          ]
        }
      ],
      "source": [
        "def classify_false_positives(x):\n",
        "  # True Positive, we correctly identified a human\n",
        "  if x['actual'] == 1 and x['prediction'] == 1:\n",
        "    return 'TP'\n",
        "  # True Negative, we correctly identified a computer\n",
        "  elif x['actual'] == 0 and x['prediction'] == 0:\n",
        "    return 'TN'\n",
        "  # False Negative, it was a human but we said it was a bot\n",
        "  elif x['actual'] == 1 and x['prediction'] == 0:\n",
        "    return 'FN'\n",
        "  # False Positive, it was a bot, but we said it was a human\n",
        "  else:\n",
        "    return 'FP'\n",
        "\n",
        "# Create a new column called classification\n",
        "comparisons['classification'] = comparisons.apply(classify_false_positives, axis=1)\n",
        "print(comparisons['classification'].value_counts())"
      ]
    }
  ],
  "metadata": {
    "colab": {
      "provenance": []
    },
    "kernelspec": {
      "display_name": ".venv",
      "language": "python",
      "name": "python3"
    },
    "language_info": {
      "codemirror_mode": {
        "name": "ipython",
        "version": 3
      },
      "file_extension": ".py",
      "mimetype": "text/x-python",
      "name": "python",
      "nbconvert_exporter": "python",
      "pygments_lexer": "ipython3",
      "version": "3.10.9"
    },
    "orig_nbformat": 4
  },
  "nbformat": 4,
  "nbformat_minor": 0
}
