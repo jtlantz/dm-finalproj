{
  "cells": [
    {
      "cell_type": "code",
      "execution_count": 7,
      "metadata": {
        "colab": {
          "base_uri": "https://localhost:8080/"
        },
        "id": "wEoAZwZZTv18",
        "outputId": "e3e89c7e-10f8-454b-d6fa-a75d5c052b4c"
      },
      "outputs": [
        {
          "name": "stdout",
          "output_type": "stream",
          "text": [
            "Requirement already satisfied: pandas in /home/justyn/datamining/dm-finalproj/.venv/lib/python3.9/site-packages (1.5.3)\n",
            "Requirement already satisfied: numpy>=1.20.3 in /home/justyn/datamining/dm-finalproj/.venv/lib/python3.9/site-packages (from pandas) (1.24.2)\n",
            "Requirement already satisfied: pytz>=2020.1 in /home/justyn/datamining/dm-finalproj/.venv/lib/python3.9/site-packages (from pandas) (2023.3)\n",
            "Requirement already satisfied: python-dateutil>=2.8.1 in /home/justyn/datamining/dm-finalproj/.venv/lib/python3.9/site-packages (from pandas) (2.8.2)\n",
            "Requirement already satisfied: six>=1.5 in /home/justyn/datamining/dm-finalproj/.venv/lib/python3.9/site-packages (from python-dateutil>=2.8.1->pandas) (1.16.0)\n",
            "\u001b[33mWARNING: You are using pip version 22.0.4; however, version 23.0.1 is available.\n",
            "You should consider upgrading via the '/home/justyn/datamining/dm-finalproj/.venv/bin/python -m pip install --upgrade pip' command.\u001b[0m\u001b[33m\n",
            "\u001b[0mNote: you may need to restart the kernel to use updated packages.\n",
            "Requirement already satisfied: numpy in /home/justyn/datamining/dm-finalproj/.venv/lib/python3.9/site-packages (1.24.2)\n",
            "\u001b[33mWARNING: You are using pip version 22.0.4; however, version 23.0.1 is available.\n",
            "You should consider upgrading via the '/home/justyn/datamining/dm-finalproj/.venv/bin/python -m pip install --upgrade pip' command.\u001b[0m\u001b[33m\n",
            "\u001b[0mNote: you may need to restart the kernel to use updated packages.\n",
            "Requirement already satisfied: matplotlib in /home/justyn/datamining/dm-finalproj/.venv/lib/python3.9/site-packages (3.7.1)\n",
            "Requirement already satisfied: importlib-resources>=3.2.0 in /home/justyn/datamining/dm-finalproj/.venv/lib/python3.9/site-packages (from matplotlib) (5.12.0)\n",
            "Requirement already satisfied: python-dateutil>=2.7 in /home/justyn/datamining/dm-finalproj/.venv/lib/python3.9/site-packages (from matplotlib) (2.8.2)\n",
            "Requirement already satisfied: pyparsing>=2.3.1 in /home/justyn/datamining/dm-finalproj/.venv/lib/python3.9/site-packages (from matplotlib) (3.0.9)\n",
            "Requirement already satisfied: numpy>=1.20 in /home/justyn/datamining/dm-finalproj/.venv/lib/python3.9/site-packages (from matplotlib) (1.24.2)\n",
            "Requirement already satisfied: pillow>=6.2.0 in /home/justyn/datamining/dm-finalproj/.venv/lib/python3.9/site-packages (from matplotlib) (9.4.0)\n",
            "Requirement already satisfied: fonttools>=4.22.0 in /home/justyn/datamining/dm-finalproj/.venv/lib/python3.9/site-packages (from matplotlib) (4.39.3)\n",
            "Requirement already satisfied: cycler>=0.10 in /home/justyn/datamining/dm-finalproj/.venv/lib/python3.9/site-packages (from matplotlib) (0.11.0)\n",
            "Requirement already satisfied: kiwisolver>=1.0.1 in /home/justyn/datamining/dm-finalproj/.venv/lib/python3.9/site-packages (from matplotlib) (1.4.4)\n",
            "Requirement already satisfied: contourpy>=1.0.1 in /home/justyn/datamining/dm-finalproj/.venv/lib/python3.9/site-packages (from matplotlib) (1.0.7)\n",
            "Requirement already satisfied: packaging>=20.0 in /home/justyn/datamining/dm-finalproj/.venv/lib/python3.9/site-packages (from matplotlib) (23.0)\n",
            "Requirement already satisfied: zipp>=3.1.0 in /home/justyn/datamining/dm-finalproj/.venv/lib/python3.9/site-packages (from importlib-resources>=3.2.0->matplotlib) (3.15.0)\n",
            "Requirement already satisfied: six>=1.5 in /home/justyn/datamining/dm-finalproj/.venv/lib/python3.9/site-packages (from python-dateutil>=2.7->matplotlib) (1.16.0)\n",
            "\u001b[33mWARNING: You are using pip version 22.0.4; however, version 23.0.1 is available.\n",
            "You should consider upgrading via the '/home/justyn/datamining/dm-finalproj/.venv/bin/python -m pip install --upgrade pip' command.\u001b[0m\u001b[33m\n",
            "\u001b[0mNote: you may need to restart the kernel to use updated packages.\n",
            "Requirement already satisfied: nltk in /home/justyn/datamining/dm-finalproj/.venv/lib/python3.9/site-packages (3.8.1)\n",
            "Requirement already satisfied: joblib in /home/justyn/datamining/dm-finalproj/.venv/lib/python3.9/site-packages (from nltk) (1.2.0)\n",
            "Requirement already satisfied: click in /home/justyn/datamining/dm-finalproj/.venv/lib/python3.9/site-packages (from nltk) (8.1.3)\n",
            "Requirement already satisfied: tqdm in /home/justyn/datamining/dm-finalproj/.venv/lib/python3.9/site-packages (from nltk) (4.65.0)\n",
            "Requirement already satisfied: regex>=2021.8.3 in /home/justyn/datamining/dm-finalproj/.venv/lib/python3.9/site-packages (from nltk) (2023.3.23)\n",
            "\u001b[33mWARNING: You are using pip version 22.0.4; however, version 23.0.1 is available.\n",
            "You should consider upgrading via the '/home/justyn/datamining/dm-finalproj/.venv/bin/python -m pip install --upgrade pip' command.\u001b[0m\u001b[33m\n",
            "\u001b[0mNote: you may need to restart the kernel to use updated packages.\n"
          ]
        }
      ],
      "source": [
        "%pip install pandas\n",
        "%pip install numpy\n",
        "%pip install matplotlib\n",
        "%matplotlib inline\n",
        "%pip install nltk"
      ]
    },
    {
      "cell_type": "code",
      "execution_count": 8,
      "metadata": {
        "colab": {
          "base_uri": "https://localhost:8080/"
        },
        "id": "koNM4mOETv18",
        "outputId": "a87eed20-ee69-4e67-fd08-59d7e259de66"
      },
      "outputs": [
        {
          "name": "stderr",
          "output_type": "stream",
          "text": [
            "[nltk_data] Downloading package vader_lexicon to\n",
            "[nltk_data]     /home/justyn/nltk_data...\n",
            "[nltk_data]   Package vader_lexicon is already up-to-date!\n"
          ]
        },
        {
          "data": {
            "text/plain": [
              "True"
            ]
          },
          "execution_count": 8,
          "metadata": {},
          "output_type": "execute_result"
        }
      ],
      "source": [
        "import pandas as pd\n",
        "import numpy as np\n",
        "import re\n",
        "import nltk\n",
        "import matplotlib.pyplot as plt\n",
        "from nltk.sentiment.vader import SentimentIntensityAnalyzer\n",
        "\n",
        "\"\"\"\n",
        "If you use the VADER sentiment analysis tools, please cite:\n",
        "\n",
        "Hutto, C.J. & Gilbert, E.E. (2014). VADER: A Parsimonious Rule-based Model for\n",
        "Sentiment Analysis of Social Media Text. Eighth International Conference on\n",
        "Weblogs and Social Media (ICWSM-14). Ann Arbor, MI, June 2014.\n",
        "\"\"\"\n",
        "nltk.download('vader_lexicon')"
      ]
    },
    {
      "cell_type": "code",
      "execution_count": 38,
      "metadata": {
        "colab": {
          "base_uri": "https://localhost:8080/",
          "height": 206
        },
        "id": "nnCAmOa8Tv19",
        "outputId": "f816b684-1393-4a3b-ab88-6a5d4a3b31ea"
      },
      "outputs": [
        {
          "data": {
            "text/html": [
              "<div>\n",
              "<style scoped>\n",
              "    .dataframe tbody tr th:only-of-type {\n",
              "        vertical-align: middle;\n",
              "    }\n",
              "\n",
              "    .dataframe tbody tr th {\n",
              "        vertical-align: top;\n",
              "    }\n",
              "\n",
              "    .dataframe thead th {\n",
              "        text-align: right;\n",
              "    }\n",
              "</style>\n",
              "<table border=\"1\" class=\"dataframe\">\n",
              "  <thead>\n",
              "    <tr style=\"text-align: right;\">\n",
              "      <th></th>\n",
              "      <th>category</th>\n",
              "      <th>rating</th>\n",
              "      <th>label</th>\n",
              "      <th>text</th>\n",
              "      <th>row_id</th>\n",
              "    </tr>\n",
              "  </thead>\n",
              "  <tbody>\n",
              "    <tr>\n",
              "      <th>0</th>\n",
              "      <td>Home_and_Kitchen_5</td>\n",
              "      <td>5.0</td>\n",
              "      <td>CG</td>\n",
              "      <td>Love this!  Well made, sturdy, and very comfor...</td>\n",
              "      <td>1</td>\n",
              "    </tr>\n",
              "    <tr>\n",
              "      <th>1</th>\n",
              "      <td>Home_and_Kitchen_5</td>\n",
              "      <td>5.0</td>\n",
              "      <td>CG</td>\n",
              "      <td>love it, a great upgrade from the original.  I...</td>\n",
              "      <td>2</td>\n",
              "    </tr>\n",
              "    <tr>\n",
              "      <th>2</th>\n",
              "      <td>Home_and_Kitchen_5</td>\n",
              "      <td>5.0</td>\n",
              "      <td>CG</td>\n",
              "      <td>This pillow saved my back. I love the look and...</td>\n",
              "      <td>3</td>\n",
              "    </tr>\n",
              "    <tr>\n",
              "      <th>3</th>\n",
              "      <td>Home_and_Kitchen_5</td>\n",
              "      <td>1.0</td>\n",
              "      <td>CG</td>\n",
              "      <td>Missing information on how to use it, but it i...</td>\n",
              "      <td>4</td>\n",
              "    </tr>\n",
              "    <tr>\n",
              "      <th>4</th>\n",
              "      <td>Home_and_Kitchen_5</td>\n",
              "      <td>5.0</td>\n",
              "      <td>CG</td>\n",
              "      <td>Very nice set. Good quality. We have had the s...</td>\n",
              "      <td>5</td>\n",
              "    </tr>\n",
              "  </tbody>\n",
              "</table>\n",
              "</div>"
            ],
            "text/plain": [
              "             category  rating label  \\\n",
              "0  Home_and_Kitchen_5     5.0    CG   \n",
              "1  Home_and_Kitchen_5     5.0    CG   \n",
              "2  Home_and_Kitchen_5     5.0    CG   \n",
              "3  Home_and_Kitchen_5     1.0    CG   \n",
              "4  Home_and_Kitchen_5     5.0    CG   \n",
              "\n",
              "                                                text  row_id  \n",
              "0  Love this!  Well made, sturdy, and very comfor...       1  \n",
              "1  love it, a great upgrade from the original.  I...       2  \n",
              "2  This pillow saved my back. I love the look and...       3  \n",
              "3  Missing information on how to use it, but it i...       4  \n",
              "4  Very nice set. Good quality. We have had the s...       5  "
            ]
          },
          "execution_count": 38,
          "metadata": {},
          "output_type": "execute_result"
        }
      ],
      "source": [
        "df = pd.read_csv(\"../resources/raw-dataset.csv\")\n",
        "df['row_id'] = df.index + 1\n",
        "df.head()"
      ]
    },
    {
      "cell_type": "code",
      "execution_count": 11,
      "metadata": {
        "colab": {
          "base_uri": "https://localhost:8080/",
          "height": 206
        },
        "id": "cVA54BPkTv19",
        "outputId": "bfe7aab4-233f-4d2b-a17b-83a618a73684"
      },
      "outputs": [
        {
          "data": {
            "text/html": [
              "<div>\n",
              "<style scoped>\n",
              "    .dataframe tbody tr th:only-of-type {\n",
              "        vertical-align: middle;\n",
              "    }\n",
              "\n",
              "    .dataframe tbody tr th {\n",
              "        vertical-align: top;\n",
              "    }\n",
              "\n",
              "    .dataframe thead th {\n",
              "        text-align: right;\n",
              "    }\n",
              "</style>\n",
              "<table border=\"1\" class=\"dataframe\">\n",
              "  <thead>\n",
              "    <tr style=\"text-align: right;\">\n",
              "      <th></th>\n",
              "      <th>row_id</th>\n",
              "      <th>text</th>\n",
              "    </tr>\n",
              "  </thead>\n",
              "  <tbody>\n",
              "    <tr>\n",
              "      <th>0</th>\n",
              "      <td>1</td>\n",
              "      <td>Love this!  Well made, sturdy, and very comfor...</td>\n",
              "    </tr>\n",
              "    <tr>\n",
              "      <th>1</th>\n",
              "      <td>2</td>\n",
              "      <td>love it, a great upgrade from the original.  I...</td>\n",
              "    </tr>\n",
              "    <tr>\n",
              "      <th>2</th>\n",
              "      <td>3</td>\n",
              "      <td>This pillow saved my back. I love the look and...</td>\n",
              "    </tr>\n",
              "    <tr>\n",
              "      <th>3</th>\n",
              "      <td>4</td>\n",
              "      <td>Missing information on how to use it, but it i...</td>\n",
              "    </tr>\n",
              "    <tr>\n",
              "      <th>4</th>\n",
              "      <td>5</td>\n",
              "      <td>Very nice set. Good quality. We have had the s...</td>\n",
              "    </tr>\n",
              "  </tbody>\n",
              "</table>\n",
              "</div>"
            ],
            "text/plain": [
              "   row_id                                               text\n",
              "0       1  Love this!  Well made, sturdy, and very comfor...\n",
              "1       2  love it, a great upgrade from the original.  I...\n",
              "2       3  This pillow saved my back. I love the look and...\n",
              "3       4  Missing information on how to use it, but it i...\n",
              "4       5  Very nice set. Good quality. We have had the s..."
            ]
          },
          "execution_count": 11,
          "metadata": {},
          "output_type": "execute_result"
        }
      ],
      "source": [
        "# Make a copy of the df, incase we need to go back and access anything later\n",
        "sub_df = df[['row_id', 'text']]\n",
        "sub_df.head()"
      ]
    },
    {
      "cell_type": "code",
      "execution_count": 12,
      "metadata": {
        "colab": {
          "base_uri": "https://localhost:8080/",
          "height": 476
        },
        "id": "3T_-iGmnTv19",
        "outputId": "48ff7427-9dcf-4801-8655-ee648865fa87"
      },
      "outputs": [
        {
          "name": "stderr",
          "output_type": "stream",
          "text": [
            "/tmp/ipykernel_350/2430751107.py:2: FutureWarning: The default value of regex will change from True to False in a future version.\n",
            "  sub_df['text'] = sub_df['text'].str.replace(\"[^a-zA-Z#]\", \" \")\n",
            "/tmp/ipykernel_350/2430751107.py:2: SettingWithCopyWarning: \n",
            "A value is trying to be set on a copy of a slice from a DataFrame.\n",
            "Try using .loc[row_indexer,col_indexer] = value instead\n",
            "\n",
            "See the caveats in the documentation: https://pandas.pydata.org/pandas-docs/stable/user_guide/indexing.html#returning-a-view-versus-a-copy\n",
            "  sub_df['text'] = sub_df['text'].str.replace(\"[^a-zA-Z#]\", \" \")\n",
            "/tmp/ipykernel_350/2430751107.py:3: SettingWithCopyWarning: \n",
            "A value is trying to be set on a copy of a slice from a DataFrame.\n",
            "Try using .loc[row_indexer,col_indexer] = value instead\n",
            "\n",
            "See the caveats in the documentation: https://pandas.pydata.org/pandas-docs/stable/user_guide/indexing.html#returning-a-view-versus-a-copy\n",
            "  sub_df['text'] = sub_df['text'].str.casefold()\n"
          ]
        },
        {
          "data": {
            "text/html": [
              "<div>\n",
              "<style scoped>\n",
              "    .dataframe tbody tr th:only-of-type {\n",
              "        vertical-align: middle;\n",
              "    }\n",
              "\n",
              "    .dataframe tbody tr th {\n",
              "        vertical-align: top;\n",
              "    }\n",
              "\n",
              "    .dataframe thead th {\n",
              "        text-align: right;\n",
              "    }\n",
              "</style>\n",
              "<table border=\"1\" class=\"dataframe\">\n",
              "  <thead>\n",
              "    <tr style=\"text-align: right;\">\n",
              "      <th></th>\n",
              "      <th>row_id</th>\n",
              "      <th>text</th>\n",
              "    </tr>\n",
              "  </thead>\n",
              "  <tbody>\n",
              "    <tr>\n",
              "      <th>0</th>\n",
              "      <td>1</td>\n",
              "      <td>love this   well made  sturdy  and very comfor...</td>\n",
              "    </tr>\n",
              "    <tr>\n",
              "      <th>1</th>\n",
              "      <td>2</td>\n",
              "      <td>love it  a great upgrade from the original   i...</td>\n",
              "    </tr>\n",
              "    <tr>\n",
              "      <th>2</th>\n",
              "      <td>3</td>\n",
              "      <td>this pillow saved my back  i love the look and...</td>\n",
              "    </tr>\n",
              "    <tr>\n",
              "      <th>3</th>\n",
              "      <td>4</td>\n",
              "      <td>missing information on how to use it  but it i...</td>\n",
              "    </tr>\n",
              "    <tr>\n",
              "      <th>4</th>\n",
              "      <td>5</td>\n",
              "      <td>very nice set  good quality  we have had the s...</td>\n",
              "    </tr>\n",
              "  </tbody>\n",
              "</table>\n",
              "</div>"
            ],
            "text/plain": [
              "   row_id                                               text\n",
              "0       1  love this   well made  sturdy  and very comfor...\n",
              "1       2  love it  a great upgrade from the original   i...\n",
              "2       3  this pillow saved my back  i love the look and...\n",
              "3       4  missing information on how to use it  but it i...\n",
              "4       5  very nice set  good quality  we have had the s..."
            ]
          },
          "execution_count": 12,
          "metadata": {},
          "output_type": "execute_result"
        }
      ],
      "source": [
        "# Cleanup of the data\n",
        "sub_df['text'] = sub_df['text'].str.replace(\"[^a-zA-Z#]\", \" \")\n",
        "sub_df['text'] = sub_df['text'].str.casefold()\n",
        "sub_df.head()"
      ]
    },
    {
      "cell_type": "code",
      "execution_count": 18,
      "metadata": {},
      "outputs": [
        {
          "name": "stdout",
          "output_type": "stream",
          "text": [
            "{'neg': 0.0, 'neu': 0.545, 'pos': 0.455, 'compound': 0.3612}\n"
          ]
        }
      ],
      "source": [
        "sid = SentimentIntensityAnalyzer()\n",
        "words = \"I like to eat candy\"\n",
        "scores = sid.polarity_scores(words)\n",
        "print(scores)"
      ]
    },
    {
      "cell_type": "code",
      "execution_count": 19,
      "metadata": {},
      "outputs": [
        {
          "name": "stderr",
          "output_type": "stream",
          "text": [
            "/tmp/ipykernel_350/2426375197.py:2: SettingWithCopyWarning: \n",
            "A value is trying to be set on a copy of a slice from a DataFrame.\n",
            "Try using .loc[row_indexer,col_indexer] = value instead\n",
            "\n",
            "See the caveats in the documentation: https://pandas.pydata.org/pandas-docs/stable/user_guide/indexing.html#returning-a-view-versus-a-copy\n",
            "  sub_df['scores'] = sub_df['text'].apply(lambda x: sid.polarity_scores(x))\n"
          ]
        }
      ],
      "source": [
        "sid = SentimentIntensityAnalyzer()\n",
        "sub_df['scores'] = sub_df['text'].apply(lambda x: sid.polarity_scores(x))"
      ]
    },
    {
      "cell_type": "code",
      "execution_count": null,
      "metadata": {},
      "outputs": [],
      "source": [
        "sub_df['neg'] = sub_df['scores'].apply(lambda x: x['neg'])\n",
        "sub_df['neu'] = sub_df['scores'].apply(lambda x: x['neu'])\n",
        "sub_df['pos'] = sub_df['scores'].apply(lambda x: x['pos'])\n",
        "sub_df['compound'] = sub_df['scores'].apply(lambda x: x['compound'])\n",
        "sub_df = sub_df.drop(columns=['scores'])"
      ]
    },
    {
      "cell_type": "code",
      "execution_count": 34,
      "metadata": {
        "id": "7VXVxcu4Y66O"
      },
      "outputs": [],
      "source": [
        "sub_df.to_csv('../resources/sentiment_scores.csv')"
      ]
    }
  ],
  "metadata": {
    "colab": {
      "provenance": []
    },
    "kernelspec": {
      "display_name": ".venv",
      "language": "python",
      "name": "python3"
    },
    "language_info": {
      "codemirror_mode": {
        "name": "ipython",
        "version": 3
      },
      "file_extension": ".py",
      "mimetype": "text/x-python",
      "name": "python",
      "nbconvert_exporter": "python",
      "pygments_lexer": "ipython3",
      "version": "3.9.12"
    },
    "orig_nbformat": 4
  },
  "nbformat": 4,
  "nbformat_minor": 0
}
